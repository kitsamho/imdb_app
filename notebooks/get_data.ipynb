{
 "cells": [
  {
   "cell_type": "code",
   "execution_count": 1,
   "id": "younger-proceeding",
   "metadata": {},
   "outputs": [],
   "source": [
    "import pandas as pd\n",
    "import numpy as np\n",
    "import sys\n",
    "import os\n",
    "sys.path.append(os.getenv('SAM_PATH'))\n",
    "from samutil import MultiThreading\n",
    "from tqdm.notebook import tqdm\n",
    "import json"
   ]
  },
  {
   "cell_type": "code",
   "execution_count": 2,
   "id": "foreign-mother",
   "metadata": {},
   "outputs": [],
   "source": [
    "import tmdbsimple as tmdb\n",
    "tmdb.API_KEY = '03ba24122703f9cff69789b9ebbd342e'"
   ]
  },
  {
   "cell_type": "code",
   "execution_count": 44,
   "id": "alternate-shell",
   "metadata": {},
   "outputs": [],
   "source": [
    "page_results = []\n",
    "years_check = [i for i in range(1980,2022)]"
   ]
  },
  {
   "cell_type": "code",
   "execution_count": 45,
   "id": "sensitive-description",
   "metadata": {},
   "outputs": [],
   "source": [
    "def get_results(years_check):\n",
    "    for i in tqdm(years_check):\n",
    "        api = tmdb.Discover()\n",
    "        total_pages_to_loop = api.movie(year=i,page=1)['total_pages']\n",
    "        for loop in tqdm(range(1,total_pages_to_loop)):\n",
    "            movie = api.movie(year=i,page=loop)\n",
    "            page_results.append(movie['results'])\n",
    "    return"
   ]
  },
  {
   "cell_type": "code",
   "execution_count": 47,
   "id": "upset-affair",
   "metadata": {},
   "outputs": [],
   "source": [
    "mt = MultiThreading(10,years_check,page_results)"
   ]
  },
  {
   "cell_type": "code",
   "execution_count": null,
   "id": "matched-theology",
   "metadata": {},
   "outputs": [],
   "source": [
    "mt.Run(get_results)"
   ]
  },
  {
   "cell_type": "code",
   "execution_count": 49,
   "id": "square-survivor",
   "metadata": {},
   "outputs": [],
   "source": [
    "def parse_discover_results(page_results):\n",
    "    cleaned_results = []\n",
    "    \n",
    "    for result in range(len(page_results)):\n",
    "        try:\n",
    "            tmdb_id = page_results[result]['id']\n",
    "            title = page_results[result]['title']\n",
    "            overview = page_results[result]['overview']\n",
    "            popularity = page_results[result]['popularity']\n",
    "            release = page_results[result]['release_date']\n",
    "            vote_average = page_results[result]['vote_average']\n",
    "            cleaned_results.append((tmdb_id,title,overview,popularity,release,vote_average))\n",
    "        except:\n",
    "            pass\n",
    "        \n",
    "    return cleaned_results"
   ]
  },
  {
   "cell_type": "code",
   "execution_count": 56,
   "id": "designing-broadway",
   "metadata": {},
   "outputs": [],
   "source": [
    "all_results = []\n",
    "for page in range(len(page_results)):\n",
    "    all_results.append(pd.DataFrame(parse_discover_results(page_results[page])))"
   ]
  },
  {
   "cell_type": "code",
   "execution_count": 57,
   "id": "earlier-discipline",
   "metadata": {},
   "outputs": [],
   "source": [
    "df = pd.concat(all_results)"
   ]
  },
  {
   "cell_type": "code",
   "execution_count": 59,
   "id": "minute-virginia",
   "metadata": {},
   "outputs": [],
   "source": [
    "df = df.drop_duplicates()"
   ]
  },
  {
   "cell_type": "code",
   "execution_count": 181,
   "id": "minus-newcastle",
   "metadata": {},
   "outputs": [],
   "source": [
    "df.columns = ['tmdb_id','movie','overview','popularity','release_date','vote_average']\n",
    "df = df[df.popularity >= 5]"
   ]
  },
  {
   "cell_type": "code",
   "execution_count": 182,
   "id": "foreign-invitation",
   "metadata": {},
   "outputs": [],
   "source": [
    "df.to_csv('tmdb_discover_results.csv',index=False)"
   ]
  },
  {
   "cell_type": "code",
   "execution_count": 9,
   "id": "interstate-percentage",
   "metadata": {},
   "outputs": [],
   "source": [
    "df = pd.read_csv('tmdb_discover_results.csv',lineterminator='\\n')"
   ]
  },
  {
   "cell_type": "markdown",
   "id": "wireless-france",
   "metadata": {},
   "source": [
    "# Get more field---\n"
   ]
  },
  {
   "cell_type": "code",
   "execution_count": 11,
   "id": "wrapped-robin",
   "metadata": {},
   "outputs": [],
   "source": [
    "def get_response(search_query):\n",
    "    search = tmdb.Search()\n",
    "    response = search.movie(query=search_query)\n",
    "    return response"
   ]
  },
  {
   "cell_type": "code",
   "execution_count": 12,
   "id": "adjacent-drinking",
   "metadata": {
    "scrolled": true
   },
   "outputs": [],
   "source": [
    "def get_film_id(search_query):\n",
    "    search = tmdb.Search()\n",
    "    response = search.movie(query=search_query)\n",
    "    return response['results'][0]['id']"
   ]
  },
  {
   "cell_type": "code",
   "execution_count": 23,
   "id": "graduate-flash",
   "metadata": {},
   "outputs": [],
   "source": [
    "def get_film_response(film_id):\n",
    "    film_response = tmdb.Movies(film_id)\n",
    "    return film_response"
   ]
  },
  {
   "cell_type": "code",
   "execution_count": 7,
   "id": "underlying-guatemala",
   "metadata": {
    "code_folding": []
   },
   "outputs": [],
   "source": [
    "def build_film_dic(film_id,film_response):\n",
    "    film_dic = {}\n",
    "    \n",
    "    try:\n",
    "        film_dic['tmdb_id'] = film_id\n",
    "    except:\n",
    "        film_dic['tmdb_id'] = np.nan\n",
    "    \n",
    "    try:\n",
    "        film_dic['budget'] = film_response.info()['budget']   \n",
    "    except:\n",
    "        film_dic['budget'] = np.nan\n",
    "    \n",
    "    try:    \n",
    "        film_dic['revenue'] = film_response.info()['revenue']\n",
    "    except:  \n",
    "        film_dic['revenue'] = np.nan\n",
    "    \n",
    "    try:\n",
    "        film_dic['genres'] = film_response.info()['genres']\n",
    "    except:    \n",
    "        film_dic['genres'] = np.nan\n",
    "    \n",
    "    try:\n",
    "        if len(film_response.reviews()['results']) <1:\n",
    "            film_dic['reviews'] = np.nan\n",
    "        elif len(film_response.reviews()['results']) >0:\n",
    "            film_dic['reviews'] = film_response.reviews()['results']\n",
    "    except:    \n",
    "        film_dic['reviews'] = np.nan\n",
    "    \n",
    "    try:\n",
    "        if len(film_response.keywords()['keywords']) <1:\n",
    "            film_dic['keywords'] = np.nan\n",
    "        elif len(film_response.keywords()['keywords']) >1:\n",
    "            film_dic['keywords'] = film_response.keywords()['keywords']\n",
    "    except:    \n",
    "        film_dic['keywords'] = np.nan\n",
    "    \n",
    "    try:\n",
    "        film_dic['production_companies'] = film_response.info()['production_companies']\n",
    "    except:    \n",
    "        film_dic['production_companies'] = np.nan\n",
    "    \n",
    "    try:\n",
    "        film_dic['production_countries'] = film_response.info()['production_countries']\n",
    "    except:    \n",
    "        film_dic['production_countries'] = np.nan\n",
    "        \n",
    "    try:\n",
    "        film_dic['cast'] = film_response.credits()['cast'] \n",
    "        \n",
    "    except:\n",
    "        film_dic['cast'] = np.nan\n",
    "    \n",
    "    try:\n",
    "        film_dic['crew'] = film_response.credits()['crew'] \n",
    "    except:\n",
    "        film_dic['crew'] = np.nan\n",
    "    \n",
    "    \n",
    "    return film_dic\n",
    "    \n",
    "    return film_dic"
   ]
  },
  {
   "cell_type": "code",
   "execution_count": 12,
   "id": "upper-chocolate",
   "metadata": {},
   "outputs": [],
   "source": [
    "results = []"
   ]
  },
  {
   "cell_type": "code",
   "execution_count": 13,
   "id": "neutral-differential",
   "metadata": {},
   "outputs": [],
   "source": [
    "def get_film_details(film_ids):\n",
    "    \n",
    "    for film_id in tqdm(film_ids):\n",
    "      \n",
    "\n",
    "        film_response = get_film_response(film_id)\n",
    "        film_dic = build_film_dic(film_id,film_response)\n",
    "        results_new.append(film_dic)\n",
    "\n",
    "            \n",
    "    return results"
   ]
  },
  {
   "cell_type": "code",
   "execution_count": 14,
   "id": "absent-vermont",
   "metadata": {},
   "outputs": [],
   "source": [
    "mt = MultiThreading(20,df.tmdb_id.to_list(),output=results)"
   ]
  },
  {
   "cell_type": "code",
   "execution_count": null,
   "id": "several-edinburgh",
   "metadata": {},
   "outputs": [],
   "source": [
    "mt.Run(get_film_details)"
   ]
  },
  {
   "cell_type": "markdown",
   "id": "saved-quest",
   "metadata": {},
   "source": [
    "# Restructuring Cast and Crew\n",
    "---"
   ]
  },
  {
   "cell_type": "code",
   "execution_count": 10,
   "id": "mysterious-tampa",
   "metadata": {},
   "outputs": [],
   "source": [
    "import tmdbsimple as tmdb\n",
    "tmdb.API_KEY = '03ba24122703f9cff69789b9ebbd342e'"
   ]
  },
  {
   "cell_type": "code",
   "execution_count": 121,
   "id": "black-possible",
   "metadata": {},
   "outputs": [],
   "source": [
    "all_results = []"
   ]
  },
  {
   "cell_type": "code",
   "execution_count": 122,
   "id": "pleasant-updating",
   "metadata": {},
   "outputs": [],
   "source": [
    "def get_cast_crew(film_ids):\n",
    "    for id_ in tqdm(film_ids):\n",
    "        try:\n",
    "            film_response = get_film_response(id_)\n",
    "            cast_dic_list = film_response.credits()['crew']\n",
    "            for dic in cast_dic_list:\n",
    "                \n",
    "                if dic['popularity'] >= 2:\n",
    "                    dic['tmdb_id'] = id_\n",
    "                    all_results.append(dic)\n",
    "                else:\n",
    "                    pass\n",
    "        except:\n",
    "            pass\n",
    "    return"
   ]
  },
  {
   "cell_type": "code",
   "execution_count": 123,
   "id": "dying-monthly",
   "metadata": {},
   "outputs": [],
   "source": [
    "mt = MultiThreading(20,df.tmdb_id.to_list(),all_results)"
   ]
  },
  {
   "cell_type": "code",
   "execution_count": 124,
   "id": "spatial-clause",
   "metadata": {},
   "outputs": [
    {
     "data": {
      "application/vnd.jupyter.widget-view+json": {
       "model_id": "aee1b6b120ea45e3b244f4396eb4c931",
       "version_major": 2,
       "version_minor": 0
      },
      "text/plain": [
       "  0%|          | 0/1008 [00:00<?, ?it/s]"
      ]
     },
     "metadata": {},
     "output_type": "display_data"
    },
    {
     "data": {
      "application/vnd.jupyter.widget-view+json": {
       "model_id": "d7e03e722a064f9db6325b8cb8a4bbe3",
       "version_major": 2,
       "version_minor": 0
      },
      "text/plain": [
       "  0%|          | 0/1008 [00:00<?, ?it/s]"
      ]
     },
     "metadata": {},
     "output_type": "display_data"
    },
    {
     "data": {
      "application/vnd.jupyter.widget-view+json": {
       "model_id": "2a28c8fabf9045b7aef489420bcc5e81",
       "version_major": 2,
       "version_minor": 0
      },
      "text/plain": [
       "  0%|          | 0/1008 [00:00<?, ?it/s]"
      ]
     },
     "metadata": {},
     "output_type": "display_data"
    },
    {
     "data": {
      "application/vnd.jupyter.widget-view+json": {
       "model_id": "e60f617c7fc84578972569608b9f43c7",
       "version_major": 2,
       "version_minor": 0
      },
      "text/plain": [
       "  0%|          | 0/1008 [00:00<?, ?it/s]"
      ]
     },
     "metadata": {},
     "output_type": "display_data"
    },
    {
     "data": {
      "application/vnd.jupyter.widget-view+json": {
       "model_id": "7b0a6a7cacf64c6a9db8cdc3e7dd4d4f",
       "version_major": 2,
       "version_minor": 0
      },
      "text/plain": [
       "  0%|          | 0/1008 [00:00<?, ?it/s]"
      ]
     },
     "metadata": {},
     "output_type": "display_data"
    },
    {
     "data": {
      "application/vnd.jupyter.widget-view+json": {
       "model_id": "4e0cf44228b0431bb7fed3e2614962dd",
       "version_major": 2,
       "version_minor": 0
      },
      "text/plain": [
       "  0%|          | 0/1008 [00:00<?, ?it/s]"
      ]
     },
     "metadata": {},
     "output_type": "display_data"
    },
    {
     "data": {
      "application/vnd.jupyter.widget-view+json": {
       "model_id": "485f0ac390af4bccbd8b6be20b8b64fb",
       "version_major": 2,
       "version_minor": 0
      },
      "text/plain": [
       "  0%|          | 0/1008 [00:00<?, ?it/s]"
      ]
     },
     "metadata": {},
     "output_type": "display_data"
    },
    {
     "data": {
      "application/vnd.jupyter.widget-view+json": {
       "model_id": "ec453b4793ed4b45aae2844515c179db",
       "version_major": 2,
       "version_minor": 0
      },
      "text/plain": [
       "  0%|          | 0/1008 [00:00<?, ?it/s]"
      ]
     },
     "metadata": {},
     "output_type": "display_data"
    },
    {
     "data": {
      "application/vnd.jupyter.widget-view+json": {
       "model_id": "372d996042ee46ec9ae9dce7ba0093ab",
       "version_major": 2,
       "version_minor": 0
      },
      "text/plain": [
       "  0%|          | 0/1008 [00:00<?, ?it/s]"
      ]
     },
     "metadata": {},
     "output_type": "display_data"
    },
    {
     "data": {
      "application/vnd.jupyter.widget-view+json": {
       "model_id": "47539d90135b4e2484471fa17e1a085b",
       "version_major": 2,
       "version_minor": 0
      },
      "text/plain": [
       "  0%|          | 0/1008 [00:00<?, ?it/s]"
      ]
     },
     "metadata": {},
     "output_type": "display_data"
    },
    {
     "data": {
      "application/vnd.jupyter.widget-view+json": {
       "model_id": "e014a7c0369f4db1b0b876d3b5839bf3",
       "version_major": 2,
       "version_minor": 0
      },
      "text/plain": [
       "  0%|          | 0/1008 [00:00<?, ?it/s]"
      ]
     },
     "metadata": {},
     "output_type": "display_data"
    },
    {
     "data": {
      "application/vnd.jupyter.widget-view+json": {
       "model_id": "f518a7edecab4da595eea0adcc32669f",
       "version_major": 2,
       "version_minor": 0
      },
      "text/plain": [
       "  0%|          | 0/1008 [00:00<?, ?it/s]"
      ]
     },
     "metadata": {},
     "output_type": "display_data"
    },
    {
     "data": {
      "application/vnd.jupyter.widget-view+json": {
       "model_id": "9901a7418aa940b5b6dc58dc37db03e4",
       "version_major": 2,
       "version_minor": 0
      },
      "text/plain": [
       "  0%|          | 0/1008 [00:00<?, ?it/s]"
      ]
     },
     "metadata": {},
     "output_type": "display_data"
    },
    {
     "data": {
      "application/vnd.jupyter.widget-view+json": {
       "model_id": "550ef71dd0c04b23874379d0be877ba9",
       "version_major": 2,
       "version_minor": 0
      },
      "text/plain": [
       "  0%|          | 0/1008 [00:00<?, ?it/s]"
      ]
     },
     "metadata": {},
     "output_type": "display_data"
    },
    {
     "data": {
      "application/vnd.jupyter.widget-view+json": {
       "model_id": "e70ea2f2d16f4111aa3cfb20a6cafc8a",
       "version_major": 2,
       "version_minor": 0
      },
      "text/plain": [
       "  0%|          | 0/1008 [00:00<?, ?it/s]"
      ]
     },
     "metadata": {},
     "output_type": "display_data"
    },
    {
     "data": {
      "application/vnd.jupyter.widget-view+json": {
       "model_id": "0fef9f18adb64b95b40e36b1e0f4fdf1",
       "version_major": 2,
       "version_minor": 0
      },
      "text/plain": [
       "  0%|          | 0/1008 [00:00<?, ?it/s]"
      ]
     },
     "metadata": {},
     "output_type": "display_data"
    },
    {
     "data": {
      "application/vnd.jupyter.widget-view+json": {
       "model_id": "159fa00af3d84484a57ac98bd1b31503",
       "version_major": 2,
       "version_minor": 0
      },
      "text/plain": [
       "  0%|          | 0/1008 [00:00<?, ?it/s]"
      ]
     },
     "metadata": {},
     "output_type": "display_data"
    },
    {
     "data": {
      "application/vnd.jupyter.widget-view+json": {
       "model_id": "23b74f2a9e5249e490056cb782ee1086",
       "version_major": 2,
       "version_minor": 0
      },
      "text/plain": [
       "  0%|          | 0/1008 [00:00<?, ?it/s]"
      ]
     },
     "metadata": {},
     "output_type": "display_data"
    },
    {
     "data": {
      "application/vnd.jupyter.widget-view+json": {
       "model_id": "effff74033674c6c90616a13fda2155c",
       "version_major": 2,
       "version_minor": 0
      },
      "text/plain": [
       "  0%|          | 0/1008 [00:00<?, ?it/s]"
      ]
     },
     "metadata": {},
     "output_type": "display_data"
    },
    {
     "data": {
      "application/vnd.jupyter.widget-view+json": {
       "model_id": "66dd4baab0234450ac7fbf0b6b0f0f58",
       "version_major": 2,
       "version_minor": 0
      },
      "text/plain": [
       "  0%|          | 0/1008 [00:00<?, ?it/s]"
      ]
     },
     "metadata": {},
     "output_type": "display_data"
    },
    {
     "name": "stderr",
     "output_type": "stream",
     "text": [
      "IOPub message rate exceeded.\n",
      "The notebook server will temporarily stop sending output\n",
      "to the client in order to avoid crashing it.\n",
      "To change this limit, set the config variable\n",
      "`--NotebookApp.iopub_msg_rate_limit`.\n",
      "\n",
      "Current values:\n",
      "NotebookApp.iopub_msg_rate_limit=1000.0 (msgs/sec)\n",
      "NotebookApp.rate_limit_window=3.0 (secs)\n",
      "\n"
     ]
    }
   ],
   "source": [
    "mt.Run(get_cast_crew)"
   ]
  },
  {
   "cell_type": "code",
   "execution_count": 125,
   "id": "activated-apparel",
   "metadata": {},
   "outputs": [],
   "source": [
    "import json\n",
    "\n",
    "with open('crew_2.jsonl', 'w') as outfile:\n",
    "    for entry in all_results:\n",
    "        json.dump(entry, outfile)\n",
    "        outfile.write('\\n')"
   ]
  },
  {
   "cell_type": "code",
   "execution_count": 126,
   "id": "variable-phoenix",
   "metadata": {},
   "outputs": [
    {
     "data": {
      "application/vnd.jupyter.widget-view+json": {
       "model_id": "849ec2891590446aa422726554ee5add",
       "version_major": 2,
       "version_minor": 0
      },
      "text/plain": [
       "Pandas Apply:   0%|          | 0/15959 [00:00<?, ?it/s]"
      ]
     },
     "metadata": {},
     "output_type": "display_data"
    },
    {
     "name": "stdout",
     "output_type": "stream",
     "text": [
      "CPU times: user 558 ms, sys: 12.6 ms, total: 571 ms\n",
      "Wall time: 569 ms\n"
     ]
    },
    {
     "data": {
      "text/html": [
       "<div>\n",
       "<style scoped>\n",
       "    .dataframe tbody tr th:only-of-type {\n",
       "        vertical-align: middle;\n",
       "    }\n",
       "\n",
       "    .dataframe tbody tr th {\n",
       "        vertical-align: top;\n",
       "    }\n",
       "\n",
       "    .dataframe thead th {\n",
       "        text-align: right;\n",
       "    }\n",
       "</style>\n",
       "<table border=\"1\" class=\"dataframe\">\n",
       "  <thead>\n",
       "    <tr style=\"text-align: right;\">\n",
       "      <th></th>\n",
       "      <th>adult</th>\n",
       "      <th>gender</th>\n",
       "      <th>id</th>\n",
       "      <th>known_for_department</th>\n",
       "      <th>name</th>\n",
       "      <th>original_name</th>\n",
       "      <th>popularity</th>\n",
       "      <th>profile_path</th>\n",
       "      <th>credit_id</th>\n",
       "      <th>department</th>\n",
       "      <th>job</th>\n",
       "      <th>tmdb_id</th>\n",
       "    </tr>\n",
       "  </thead>\n",
       "  <tbody>\n",
       "    <tr>\n",
       "      <th>0</th>\n",
       "      <td>False</td>\n",
       "      <td>2</td>\n",
       "      <td>82702</td>\n",
       "      <td>Acting</td>\n",
       "      <td>Michael Jackson</td>\n",
       "      <td>Michael Jackson</td>\n",
       "      <td>3.796</td>\n",
       "      <td>/oc5FWwO5VYBjkKkIHTxoCtFXJ1G.jpg</td>\n",
       "      <td>52fe48b39251416c750b0819</td>\n",
       "      <td>Production</td>\n",
       "      <td>Executive Producer</td>\n",
       "      <td>90724</td>\n",
       "    </tr>\n",
       "    <tr>\n",
       "      <th>1</th>\n",
       "      <td>False</td>\n",
       "      <td>2</td>\n",
       "      <td>82702</td>\n",
       "      <td>Acting</td>\n",
       "      <td>Michael Jackson</td>\n",
       "      <td>Michael Jackson</td>\n",
       "      <td>3.796</td>\n",
       "      <td>/oc5FWwO5VYBjkKkIHTxoCtFXJ1G.jpg</td>\n",
       "      <td>5ef1013b9a8a8a0035ae8d1f</td>\n",
       "      <td>Crew</td>\n",
       "      <td>Choreographer</td>\n",
       "      <td>90724</td>\n",
       "    </tr>\n",
       "    <tr>\n",
       "      <th>2</th>\n",
       "      <td>False</td>\n",
       "      <td>2</td>\n",
       "      <td>16863</td>\n",
       "      <td>Directing</td>\n",
       "      <td>Todd Haynes</td>\n",
       "      <td>Todd Haynes</td>\n",
       "      <td>2.199</td>\n",
       "      <td>/wBDazO2j49uoquoHTEDxcniyGGC.jpg</td>\n",
       "      <td>5691cbc1c3a3684cff000831</td>\n",
       "      <td>Production</td>\n",
       "      <td>Executive Producer</td>\n",
       "      <td>340487</td>\n",
       "    </tr>\n",
       "    <tr>\n",
       "      <th>3</th>\n",
       "      <td>False</td>\n",
       "      <td>1</td>\n",
       "      <td>1017377</td>\n",
       "      <td>Production</td>\n",
       "      <td>Stephanie Holbrook</td>\n",
       "      <td>Stephanie Holbrook</td>\n",
       "      <td>2.514</td>\n",
       "      <td>None</td>\n",
       "      <td>546df8de9251412baf001e4f</td>\n",
       "      <td>Production</td>\n",
       "      <td>Casting</td>\n",
       "      <td>300654</td>\n",
       "    </tr>\n",
       "    <tr>\n",
       "      <th>4</th>\n",
       "      <td>False</td>\n",
       "      <td>2</td>\n",
       "      <td>32608</td>\n",
       "      <td>Production</td>\n",
       "      <td>Brad Simpson</td>\n",
       "      <td>Brad Simpson</td>\n",
       "      <td>2.580</td>\n",
       "      <td>None</td>\n",
       "      <td>5c8ec4ba9251410fe7a26f2b</td>\n",
       "      <td>Production</td>\n",
       "      <td>Producer</td>\n",
       "      <td>472674</td>\n",
       "    </tr>\n",
       "    <tr>\n",
       "      <th>...</th>\n",
       "      <td>...</td>\n",
       "      <td>...</td>\n",
       "      <td>...</td>\n",
       "      <td>...</td>\n",
       "      <td>...</td>\n",
       "      <td>...</td>\n",
       "      <td>...</td>\n",
       "      <td>...</td>\n",
       "      <td>...</td>\n",
       "      <td>...</td>\n",
       "      <td>...</td>\n",
       "      <td>...</td>\n",
       "    </tr>\n",
       "    <tr>\n",
       "      <th>15954</th>\n",
       "      <td>False</td>\n",
       "      <td>1</td>\n",
       "      <td>1113</td>\n",
       "      <td>Production</td>\n",
       "      <td>Lucinda Syson</td>\n",
       "      <td>Lucinda Syson</td>\n",
       "      <td>2.852</td>\n",
       "      <td>None</td>\n",
       "      <td>52fe479f9251416c7509ff1b</td>\n",
       "      <td>Production</td>\n",
       "      <td>Casting</td>\n",
       "      <td>18823</td>\n",
       "    </tr>\n",
       "    <tr>\n",
       "      <th>15955</th>\n",
       "      <td>False</td>\n",
       "      <td>2</td>\n",
       "      <td>18865</td>\n",
       "      <td>Directing</td>\n",
       "      <td>Louis Leterrier</td>\n",
       "      <td>Louis Leterrier</td>\n",
       "      <td>2.633</td>\n",
       "      <td>/pJl1hNtZOIxrdzQjwGlicWWGSXg.jpg</td>\n",
       "      <td>52fe479e9251416c7509fe4b</td>\n",
       "      <td>Directing</td>\n",
       "      <td>Director</td>\n",
       "      <td>18823</td>\n",
       "    </tr>\n",
       "    <tr>\n",
       "      <th>15956</th>\n",
       "      <td>False</td>\n",
       "      <td>2</td>\n",
       "      <td>578</td>\n",
       "      <td>Directing</td>\n",
       "      <td>Ridley Scott</td>\n",
       "      <td>Ridley Scott</td>\n",
       "      <td>3.878</td>\n",
       "      <td>/zABJmN9opmqD4orWl3KSdCaSo7Q.jpg</td>\n",
       "      <td>52fe423bc3a36847f800e117</td>\n",
       "      <td>Directing</td>\n",
       "      <td>Director</td>\n",
       "      <td>348</td>\n",
       "    </tr>\n",
       "    <tr>\n",
       "      <th>15957</th>\n",
       "      <td>False</td>\n",
       "      <td>2</td>\n",
       "      <td>239</td>\n",
       "      <td>Writing</td>\n",
       "      <td>Jon Vitti</td>\n",
       "      <td>Jon Vitti</td>\n",
       "      <td>2.804</td>\n",
       "      <td>/yoljNk80dUPs5sftsPHiDf31kQ9.jpg</td>\n",
       "      <td>52fe4468c3a368484e0215fd</td>\n",
       "      <td>Writing</td>\n",
       "      <td>Writer</td>\n",
       "      <td>23398</td>\n",
       "    </tr>\n",
       "    <tr>\n",
       "      <th>15958</th>\n",
       "      <td>False</td>\n",
       "      <td>1</td>\n",
       "      <td>113090</td>\n",
       "      <td>Sound</td>\n",
       "      <td>Alicia Stevenson</td>\n",
       "      <td>Alicia Stevenson</td>\n",
       "      <td>2.132</td>\n",
       "      <td>/kgYtaWN4VSFh2B0jkHa1GMBOcNU.jpg</td>\n",
       "      <td>60556bfbc390c50053108934</td>\n",
       "      <td>Sound</td>\n",
       "      <td>Foley Artist</td>\n",
       "      <td>23398</td>\n",
       "    </tr>\n",
       "  </tbody>\n",
       "</table>\n",
       "<p>15959 rows × 12 columns</p>\n",
       "</div>"
      ],
      "text/plain": [
       "       adult  gender       id known_for_department                name  \\\n",
       "0      False       2    82702               Acting     Michael Jackson   \n",
       "1      False       2    82702               Acting     Michael Jackson   \n",
       "2      False       2    16863            Directing         Todd Haynes   \n",
       "3      False       1  1017377           Production  Stephanie Holbrook   \n",
       "4      False       2    32608           Production        Brad Simpson   \n",
       "...      ...     ...      ...                  ...                 ...   \n",
       "15954  False       1     1113           Production       Lucinda Syson   \n",
       "15955  False       2    18865            Directing     Louis Leterrier   \n",
       "15956  False       2      578            Directing        Ridley Scott   \n",
       "15957  False       2      239              Writing           Jon Vitti   \n",
       "15958  False       1   113090                Sound    Alicia Stevenson   \n",
       "\n",
       "            original_name  popularity                      profile_path  \\\n",
       "0         Michael Jackson       3.796  /oc5FWwO5VYBjkKkIHTxoCtFXJ1G.jpg   \n",
       "1         Michael Jackson       3.796  /oc5FWwO5VYBjkKkIHTxoCtFXJ1G.jpg   \n",
       "2             Todd Haynes       2.199  /wBDazO2j49uoquoHTEDxcniyGGC.jpg   \n",
       "3      Stephanie Holbrook       2.514                              None   \n",
       "4            Brad Simpson       2.580                              None   \n",
       "...                   ...         ...                               ...   \n",
       "15954       Lucinda Syson       2.852                              None   \n",
       "15955     Louis Leterrier       2.633  /pJl1hNtZOIxrdzQjwGlicWWGSXg.jpg   \n",
       "15956        Ridley Scott       3.878  /zABJmN9opmqD4orWl3KSdCaSo7Q.jpg   \n",
       "15957           Jon Vitti       2.804  /yoljNk80dUPs5sftsPHiDf31kQ9.jpg   \n",
       "15958    Alicia Stevenson       2.132  /kgYtaWN4VSFh2B0jkHa1GMBOcNU.jpg   \n",
       "\n",
       "                      credit_id  department                 job  tmdb_id  \n",
       "0      52fe48b39251416c750b0819  Production  Executive Producer    90724  \n",
       "1      5ef1013b9a8a8a0035ae8d1f        Crew       Choreographer    90724  \n",
       "2      5691cbc1c3a3684cff000831  Production  Executive Producer   340487  \n",
       "3      546df8de9251412baf001e4f  Production             Casting   300654  \n",
       "4      5c8ec4ba9251410fe7a26f2b  Production            Producer   472674  \n",
       "...                         ...         ...                 ...      ...  \n",
       "15954  52fe479f9251416c7509ff1b  Production             Casting    18823  \n",
       "15955  52fe479e9251416c7509fe4b   Directing            Director    18823  \n",
       "15956  52fe423bc3a36847f800e117   Directing            Director      348  \n",
       "15957  52fe4468c3a368484e0215fd     Writing              Writer    23398  \n",
       "15958  60556bfbc390c50053108934       Sound        Foley Artist    23398  \n",
       "\n",
       "[15959 rows x 12 columns]"
      ]
     },
     "execution_count": 126,
     "metadata": {},
     "output_type": "execute_result"
    }
   ],
   "source": [
    "%%time\n",
    "with open('crew_2.jsonl') as f:\n",
    "    lines = f.read().splitlines()\n",
    "df_inter = pd.DataFrame(lines)\n",
    "df_inter.columns = ['json_element']\n",
    "pd.json_normalize(df_inter['json_element'].swifter.apply(json.loads))"
   ]
  },
  {
   "cell_type": "code",
   "execution_count": 78,
   "id": "naval-detection",
   "metadata": {},
   "outputs": [
    {
     "data": {
      "text/html": [
       "<div>\n",
       "<style scoped>\n",
       "    .dataframe tbody tr th:only-of-type {\n",
       "        vertical-align: middle;\n",
       "    }\n",
       "\n",
       "    .dataframe tbody tr th {\n",
       "        vertical-align: top;\n",
       "    }\n",
       "\n",
       "    .dataframe thead th {\n",
       "        text-align: right;\n",
       "    }\n",
       "</style>\n",
       "<table border=\"1\" class=\"dataframe\">\n",
       "  <thead>\n",
       "    <tr style=\"text-align: right;\">\n",
       "      <th></th>\n",
       "      <th>json_element</th>\n",
       "    </tr>\n",
       "  </thead>\n",
       "  <tbody>\n",
       "    <tr>\n",
       "      <th>0</th>\n",
       "      <td>\"adult\"</td>\n",
       "    </tr>\n",
       "    <tr>\n",
       "      <th>1</th>\n",
       "      <td>\"gender\"</td>\n",
       "    </tr>\n",
       "    <tr>\n",
       "      <th>2</th>\n",
       "      <td>\"id\"</td>\n",
       "    </tr>\n",
       "    <tr>\n",
       "      <th>3</th>\n",
       "      <td>\"known_for_department\"</td>\n",
       "    </tr>\n",
       "    <tr>\n",
       "      <th>4</th>\n",
       "      <td>\"name\"</td>\n",
       "    </tr>\n",
       "    <tr>\n",
       "      <th>...</th>\n",
       "      <td>...</td>\n",
       "    </tr>\n",
       "    <tr>\n",
       "      <th>280756</th>\n",
       "      <td>\"cast_id\"</td>\n",
       "    </tr>\n",
       "    <tr>\n",
       "      <th>280757</th>\n",
       "      <td>\"character\"</td>\n",
       "    </tr>\n",
       "    <tr>\n",
       "      <th>280758</th>\n",
       "      <td>\"credit_id\"</td>\n",
       "    </tr>\n",
       "    <tr>\n",
       "      <th>280759</th>\n",
       "      <td>\"order\"</td>\n",
       "    </tr>\n",
       "    <tr>\n",
       "      <th>280760</th>\n",
       "      <td>\"tmdb_id\"</td>\n",
       "    </tr>\n",
       "  </tbody>\n",
       "</table>\n",
       "<p>280761 rows × 1 columns</p>\n",
       "</div>"
      ],
      "text/plain": [
       "                  json_element\n",
       "0                      \"adult\"\n",
       "1                     \"gender\"\n",
       "2                         \"id\"\n",
       "3       \"known_for_department\"\n",
       "4                       \"name\"\n",
       "...                        ...\n",
       "280756               \"cast_id\"\n",
       "280757             \"character\"\n",
       "280758             \"credit_id\"\n",
       "280759                 \"order\"\n",
       "280760               \"tmdb_id\"\n",
       "\n",
       "[280761 rows x 1 columns]"
      ]
     },
     "execution_count": 78,
     "metadata": {},
     "output_type": "execute_result"
    }
   ],
   "source": [
    "df_inter"
   ]
  },
  {
   "cell_type": "markdown",
   "id": "plastic-behalf",
   "metadata": {},
   "source": [
    "# Get Tag and Movie Poster\n",
    "--"
   ]
  },
  {
   "cell_type": "code",
   "execution_count": 55,
   "id": "apparent-battery",
   "metadata": {},
   "outputs": [],
   "source": [
    "def get_film_response(film_id):\n",
    "    film_response = tmdb.Movies(film_id)\n",
    "    return film_response"
   ]
  },
  {
   "cell_type": "code",
   "execution_count": 56,
   "id": "great-mercury",
   "metadata": {
    "code_folding": []
   },
   "outputs": [],
   "source": [
    "def build_film_dic(film_id,film_response):\n",
    "    film_dic = {}\n",
    "    \n",
    "    try:\n",
    "        film_dic['tmdb_id'] = film_id\n",
    "    except:\n",
    "        film_dic['tmdb_id'] = np.nan\n",
    "        \n",
    "    try:\n",
    "        film_dic['poster_path'] = 'https://image.tmdb.org/t/p/w500'+film_response.info()['poster_path']  \n",
    "    except:\n",
    "        film_dic['poster_path'] = np.nan\n",
    "    \n",
    "    try:\n",
    "        film_dic['tagline'] = film_response.info()['tagline']   \n",
    "    except:\n",
    "        film_dic['tagline'] = np.nan\n",
    "    \n",
    "   \n",
    "    \n",
    "    return film_dic\n",
    "    \n"
   ]
  },
  {
   "cell_type": "code",
   "execution_count": 57,
   "id": "dimensional-eight",
   "metadata": {},
   "outputs": [],
   "source": [
    "all_results = []"
   ]
  },
  {
   "cell_type": "code",
   "execution_count": 58,
   "id": "preliminary-ribbon",
   "metadata": {},
   "outputs": [],
   "source": [
    "def get_film_details(film_ids):\n",
    "    \n",
    "    for film_id in tqdm(film_ids):\n",
    "      \n",
    "\n",
    "        film_response = get_film_response(film_id)\n",
    "        film_dic = build_film_dic(film_id,film_response)\n",
    "        all_results.append(film_dic)\n",
    "\n",
    "            \n",
    "    return results"
   ]
  },
  {
   "cell_type": "code",
   "execution_count": 59,
   "id": "weird-zoning",
   "metadata": {},
   "outputs": [],
   "source": [
    "x = pd.read_json('/Users/sam.ho/Documents/sam_personal/streamlit_apps/imdb_network_analysis/data/main/tmdb_data_main.json')"
   ]
  },
  {
   "cell_type": "code",
   "execution_count": 60,
   "id": "fifty-order",
   "metadata": {},
   "outputs": [
    {
     "data": {
      "text/plain": [
       "[694,\n",
       " 578,\n",
       " 238,\n",
       " 288985,\n",
       " 185,\n",
       " 4488,\n",
       " 8393,\n",
       " 11449,\n",
       " 123,\n",
       " 1891,\n",
       " 1367,\n",
       " 8689,\n",
       " 5336,\n",
       " 5689,\n",
       " 948,\n",
       " 9659,\n",
       " 28,\n",
       " 11542,\n",
       " 335,\n",
       " 923,\n",
       " 447332,\n",
       " 138843,\n",
       " 299536,\n",
       " 335983,\n",
       " 505262,\n",
       " 671,\n",
       " 390043,\n",
       " 284053,\n",
       " 345940,\n",
       " 354912,\n",
       " 400155,\n",
       " 346910,\n",
       " 333339,\n",
       " 518764,\n",
       " 398818,\n",
       " 8587,\n",
       " 439079,\n",
       " 324786,\n",
       " 433945,\n",
       " 383498,\n",
       " 672,\n",
       " 425,\n",
       " 808,\n",
       " 9023,\n",
       " 585,\n",
       " 9820,\n",
       " 39100,\n",
       " 9637,\n",
       " 24752,\n",
       " 597,\n",
       " 120,\n",
       " 39105,\n",
       " 121,\n",
       " 557,\n",
       " 11544,\n",
       " 39103,\n",
       " 9487,\n",
       " 7342,\n",
       " 10144,\n",
       " 39101,\n",
       " 268,\n",
       " 149,\n",
       " 11587,\n",
       " 11186,\n",
       " 106,\n",
       " 19185,\n",
       " 39323,\n",
       " 8392,\n",
       " 1368,\n",
       " 8913,\n",
       " 377,\n",
       " 218,\n",
       " 562,\n",
       " 114,\n",
       " 10014,\n",
       " 162,\n",
       " 11674,\n",
       " 10674,\n",
       " 11970,\n",
       " 9732,\n",
       " 2300,\n",
       " 11932,\n",
       " 18937,\n",
       " 13761,\n",
       " 9444,\n",
       " 14444,\n",
       " 637,\n",
       " 18491,\n",
       " 317442,\n",
       " 24428,\n",
       " 198663,\n",
       " 106646,\n",
       " 122917,\n",
       " 260346,\n",
       " 157336,\n",
       " 177572,\n",
       " 109445,\n",
       " 9552,\n",
       " 9948,\n",
       " 102651,\n",
       " 250546,\n",
       " 265712,\n",
       " 76338,\n",
       " 270946,\n",
       " 45243,\n",
       " 238636,\n",
       " 34584,\n",
       " 1369,\n",
       " 9730,\n",
       " 10925,\n",
       " 105,\n",
       " 87,\n",
       " 1374,\n",
       " 85,\n",
       " 9340,\n",
       " 620,\n",
       " 9731,\n",
       " 44251,\n",
       " 34433,\n",
       " 39106,\n",
       " 39104,\n",
       " 9479,\n",
       " 39102,\n",
       " 278,\n",
       " 888,\n",
       " 11811,\n",
       " 10112,\n",
       " 1634,\n",
       " 680,\n",
       " 13,\n",
       " 674,\n",
       " 42246,\n",
       " 12429,\n",
       " 862,\n",
       " 14836,\n",
       " 809,\n",
       " 675,\n",
       " 19995,\n",
       " 50723,\n",
       " 12444,\n",
       " 61979,\n",
       " 18785,\n",
       " 863,\n",
       " 8363,\n",
       " 36728,\n",
       " 118,\n",
       " 3933,\n",
       " 122,\n",
       " 411,\n",
       " 950,\n",
       " 10012,\n",
       " 22,\n",
       " 11688,\n",
       " 615,\n",
       " 58,\n",
       " 11,\n",
       " 11474,\n",
       " 152,\n",
       " 5879,\n",
       " 813,\n",
       " 3604,\n",
       " 790,\n",
       " 28942,\n",
       " 11953,\n",
       " 762,\n",
       " 10734,\n",
       " 8536,\n",
       " 14537,\n",
       " 610470,\n",
       " 333746,\n",
       " 1398,\n",
       " 11335,\n",
       " 11977,\n",
       " 9453,\n",
       " 1955,\n",
       " 11837,\n",
       " 297802,\n",
       " 351286,\n",
       " 480530,\n",
       " 372058,\n",
       " 293660,\n",
       " 424783,\n",
       " 337167,\n",
       " 504253,\n",
       " 378064,\n",
       " 442249,\n",
       " 416194,\n",
       " 366170,\n",
       " 436931,\n",
       " 427641,\n",
       " 399360,\n",
       " 428078,\n",
       " 284054,\n",
       " 6114,\n",
       " 28260,\n",
       " 424,\n",
       " 18009,\n",
       " 101,\n",
       " 11011,\n",
       " 854,\n",
       " 15969,\n",
       " 28609,\n",
       " 11621,\n",
       " 1637,\n",
       " 10285,\n",
       " 619,\n",
       " 2758,\n",
       " 8467,\n",
       " 15283,\n",
       " 500,\n",
       " 11231,\n",
       " 10439,\n",
       " 37211,\n",
       " 10020,\n",
       " 129,\n",
       " 10585,\n",
       " 10054,\n",
       " 603,\n",
       " 8922,\n",
       " 9378,\n",
       " 16366,\n",
       " 9488,\n",
       " 2770,\n",
       " 9602,\n",
       " 103,\n",
       " 9356,\n",
       " 169,\n",
       " 11357,\n",
       " 10131,\n",
       " 1573,\n",
       " 769,\n",
       " 242,\n",
       " 11361,\n",
       " 19593,\n",
       " 11690,\n",
       " 1669,\n",
       " 9064,\n",
       " 9362,\n",
       " 1375,\n",
       " 2978,\n",
       " 165,\n",
       " 81,\n",
       " 16235,\n",
       " 1885,\n",
       " 9355,\n",
       " 9728,\n",
       " 10552,\n",
       " 707,\n",
       " 8810,\n",
       " 10957,\n",
       " 11824,\n",
       " 10676,\n",
       " 10372,\n",
       " 10999,\n",
       " 11976,\n",
       " 9651,\n",
       " 279,\n",
       " 11797,\n",
       " 10157,\n",
       " 9806,\n",
       " 10138,\n",
       " 23823,\n",
       " 9502,\n",
       " 12,\n",
       " 8920,\n",
       " 38757,\n",
       " 10193,\n",
       " 14160,\n",
       " 49018,\n",
       " 10191,\n",
       " 10192,\n",
       " 9904,\n",
       " 59429,\n",
       " 102382,\n",
       " 68726,\n",
       " 131631,\n",
       " 228150,\n",
       " 98566,\n",
       " 176,\n",
       " 1930,\n",
       " 82702,\n",
       " 91314,\n",
       " 200085,\n",
       " 126963,\n",
       " 232672,\n",
       " 227348,\n",
       " 245891,\n",
       " 648964,\n",
       " 70981,\n",
       " 95,\n",
       " 857,\n",
       " 9769,\n",
       " 36647,\n",
       " 929,\n",
       " 16859,\n",
       " 10216,\n",
       " 4232,\n",
       " 539,\n",
       " 37165,\n",
       " 18,\n",
       " 754,\n",
       " 9320,\n",
       " 73,\n",
       " 9837,\n",
       " 2109,\n",
       " 415,\n",
       " 9823,\n",
       " 39107,\n",
       " 18861,\n",
       " 39108,\n",
       " 10555,\n",
       " 8871,\n",
       " 12279,\n",
       " 272,\n",
       " 350,\n",
       " 4935,\n",
       " 1579,\n",
       " 9297,\n",
       " 214,\n",
       " 14442,\n",
       " 497,\n",
       " 920,\n",
       " 399402,\n",
       " 500921,\n",
       " 402900,\n",
       " 283995,\n",
       " 158015,\n",
       " 260513,\n",
       " 400535,\n",
       " 268896,\n",
       " 335984,\n",
       " 433422,\n",
       " 324857,\n",
       " 345887,\n",
       " 254128,\n",
       " 338952,\n",
       " 135397,\n",
       " 397567,\n",
       " 438689,\n",
       " 557968,\n",
       " 336843,\n",
       " 525,\n",
       " 16619,\n",
       " 9638,\n",
       " 11656,\n",
       " 1578,\n",
       " 17169,\n",
       " 73134,\n",
       " 11033,\n",
       " 10986,\n",
       " 659,\n",
       " 25239,\n",
       " 583,\n",
       " 17496,\n",
       " 8738,\n",
       " 30547,\n",
       " 7219,\n",
       " 19267,\n",
       " 12102,\n",
       " 696,\n",
       " 29343,\n",
       " 311,\n",
       " 841,\n",
       " 90,\n",
       " 9056,\n",
       " 11418,\n",
       " 10303,\n",
       " 25237,\n",
       " 9610,\n",
       " 39256,\n",
       " 17898,\n",
       " 1884,\n",
       " 8879,\n",
       " 15144,\n",
       " 11864,\n",
       " 2108,\n",
       " 606,\n",
       " 97,\n",
       " 10633,\n",
       " 1880,\n",
       " 2019,\n",
       " 16270,\n",
       " 788,\n",
       " 329,\n",
       " 9386,\n",
       " 5503,\n",
       " 50270,\n",
       " 5550,\n",
       " 10897,\n",
       " 36955,\n",
       " 11969,\n",
       " 11212,\n",
       " 3049,\n",
       " 9495,\n",
       " 11596,\n",
       " 12207,\n",
       " 9739,\n",
       " 9593,\n",
       " 16337,\n",
       " 252,\n",
       " 15167,\n",
       " 550,\n",
       " 111,\n",
       " 10229,\n",
       " 10948,\n",
       " 170,\n",
       " 14128,\n",
       " 10607,\n",
       " 607,\n",
       " 4248,\n",
       " 621,\n",
       " 1813,\n",
       " 75,\n",
       " 105444,\n",
       " 4961,\n",
       " 8078,\n",
       " 489,\n",
       " 3600,\n",
       " 8916,\n",
       " 10494,\n",
       " 37100,\n",
       " 9276,\n",
       " 18519,\n",
       " 819,\n",
       " 861,\n",
       " 9454,\n",
       " 9714,\n",
       " 2330,\n",
       " 8656,\n",
       " 755,\n",
       " 116776,\n",
       " 10847,\n",
       " 15138,\n",
       " 9399,\n",
       " 39144,\n",
       " 196,\n",
       " 510,\n",
       " 25018,\n",
       " 207,\n",
       " 11077,\n",
       " 36670,\n",
       " 11937,\n",
       " 10127,\n",
       " 9494,\n",
       " 251,\n",
       " 856,\n",
       " 928,\n",
       " 942,\n",
       " 23827,\n",
       " 40662,\n",
       " 10681,\n",
       " 38365,\n",
       " 24021,\n",
       " 10009,\n",
       " 13053,\n",
       " 6479,\n",
       " 16523,\n",
       " 38234,\n",
       " 16577,\n",
       " 1267,\n",
       " 9325,\n",
       " 21208,\n",
       " 20352,\n",
       " 10198,\n",
       " 38055,\n",
       " 280002,\n",
       " 256274,\n",
       " 93456,\n",
       " 46195,\n",
       " 147441,\n",
       " 72105,\n",
       " 189,\n",
       " 156022,\n",
       " 127585,\n",
       " 49051,\n",
       " 57158,\n",
       " 11836,\n",
       " 50619,\n",
       " 225886,\n",
       " 179826,\n",
       " 119450,\n",
       " 215,\n",
       " 254,\n",
       " 8643,\n",
       " 25565,\n",
       " 37797,\n",
       " 13002,\n",
       " 12153,\n",
       " 604,\n",
       " 8275,\n",
       " 10010,\n",
       " 9792,\n",
       " 13285,\n",
       " 16007,\n",
       " 15255,\n",
       " 11249,\n",
       " 10065,\n",
       " 9373,\n",
       " 9358,\n",
       " 17443,\n",
       " 10322,\n",
       " 11121,\n",
       " 3115,\n",
       " 16858,\n",
       " 16633,\n",
       " 6471,\n",
       " 74849,\n",
       " 8469,\n",
       " 32037,\n",
       " 13939,\n",
       " 13550,\n",
       " 11563,\n",
       " 11712,\n",
       " 17264,\n",
       " 19274,\n",
       " 31037,\n",
       " 985,\n",
       " 15668,\n",
       " 404368,\n",
       " 396535,\n",
       " 353081,\n",
       " 141052,\n",
       " 429415,\n",
       " 440471,\n",
       " 451156,\n",
       " 109439,\n",
       " 401478,\n",
       " 454983,\n",
       " 274855,\n",
       " 363088,\n",
       " 503314,\n",
       " 489932,\n",
       " 471335,\n",
       " 438590,\n",
       " 523849,\n",
       " 12500,\n",
       " 935,\n",
       " 11814,\n",
       " 11893,\n",
       " 11509,\n",
       " 9463,\n",
       " 615801,\n",
       " 4255,\n",
       " 8764,\n",
       " 916,\n",
       " 625,\n",
       " 45408,\n",
       " 9626,\n",
       " 11153,\n",
       " 68,\n",
       " 10328,\n",
       " 14052,\n",
       " 1607,\n",
       " 2636,\n",
       " 766,\n",
       " 2164,\n",
       " 9800,\n",
       " 137,\n",
       " 6279,\n",
       " 12545,\n",
       " 11982,\n",
       " 22586,\n",
       " 11134,\n",
       " 10657,\n",
       " 628,\n",
       " 11528,\n",
       " 36593,\n",
       " 1587,\n",
       " 11101,\n",
       " 11667,\n",
       " 943,\n",
       " 12160,\n",
       " 15070,\n",
       " 15015,\n",
       " 10545,\n",
       " 807,\n",
       " 34004,\n",
       " 280,\n",
       " 11886,\n",
       " 9016,\n",
       " 10530,\n",
       " 10996,\n",
       " 9645,\n",
       " 89,\n",
       " 17189,\n",
       " 240,\n",
       " 10753,\n",
       " 1498,\n",
       " 792,\n",
       " 5549,\n",
       " 2756,\n",
       " 117,\n",
       " 668,\n",
       " 10837,\n",
       " 37136,\n",
       " 10160,\n",
       " 1700,\n",
       " 699,\n",
       " 581,\n",
       " 53932,\n",
       " 9354,\n",
       " 709,\n",
       " 34636,\n",
       " 10068,\n",
       " 9972,\n",
       " 17111,\n",
       " 1970,\n",
       " 9072,\n",
       " 9286,\n",
       " 8982,\n",
       " 9836,\n",
       " 16304,\n",
       " 205081,\n",
       " 10625,\n",
       " 36557,\n",
       " 602,\n",
       " 1427,\n",
       " 1255,\n",
       " 11284,\n",
       " 19994,\n",
       " 19908,\n",
       " 41439,\n",
       " 38575,\n",
       " 7555,\n",
       " 663,\n",
       " 16907,\n",
       " 18239,\n",
       " 32657,\n",
       " 44874,\n",
       " 12244,\n",
       " 37169,\n",
       " 23168,\n",
       " 43347,\n",
       " 22804,\n",
       " 22855,\n",
       " 297,\n",
       " 563,\n",
       " 10228,\n",
       " 544,\n",
       " 11252,\n",
       " 944,\n",
       " 1701,\n",
       " 846,\n",
       " 9342,\n",
       " 714,\n",
       " 10357,\n",
       " 4233,\n",
       " 13151,\n",
       " 9604,\n",
       " 3597,\n",
       " 688,\n",
       " 10603,\n",
       " 686,\n",
       " 124905,\n",
       " 228326,\n",
       " 118340,\n",
       " 176983,\n",
       " 221731,\n",
       " 136797,\n",
       " 109689,\n",
       " 109418,\n",
       " 184345,\n",
       " 100402,\n",
       " 187017,\n",
       " 221732,\n",
       " 73456,\n",
       " 240832,\n",
       " 207703,\n",
       " 190859,\n",
       " 172385,\n",
       " 10654,\n",
       " 36972,\n",
       " 10912,\n",
       " 60816,\n",
       " 10935,\n",
       " 1623,\n",
       " 33518,\n",
       " 14035,\n",
       " 36599,\n",
       " 11519,\n",
       " 21380,\n",
       " 26843,\n",
       " 166,\n",
       " 12705,\n",
       " 9570,\n",
       " 16769,\n",
       " 26517,\n",
       " 38985,\n",
       " 21866,\n",
       " 535845,\n",
       " 263115,\n",
       " 445651,\n",
       " 522417,\n",
       " 478820,\n",
       " 353486,\n",
       " 546230,\n",
       " 8966,\n",
       " 343668,\n",
       " 461083,\n",
       " 296096,\n",
       " 381289,\n",
       " 246655,\n",
       " 534338,\n",
       " 400928,\n",
       " 429351,\n",
       " 838018,\n",
       " 209112,\n",
       " 1694,\n",
       " 10843,\n",
       " 2669,\n",
       " 526,\n",
       " 14370,\n",
       " 23919,\n",
       " 11904,\n",
       " 8408,\n",
       " 25133,\n",
       " 4437,\n",
       " 15379,\n",
       " 11645,\n",
       " 9749,\n",
       " 11954,\n",
       " 28676,\n",
       " 11557,\n",
       " 15196,\n",
       " 10295,\n",
       " 5968,\n",
       " 655,\n",
       " 9607,\n",
       " 864,\n",
       " 10057,\n",
       " 14919,\n",
       " 11687,\n",
       " 13962,\n",
       " 6075,\n",
       " 9516,\n",
       " 9272,\n",
       " 9374,\n",
       " 10438,\n",
       " 30575,\n",
       " 712,\n",
       " 7984,\n",
       " 9587,\n",
       " 9359,\n",
       " 763,\n",
       " 2124,\n",
       " 11198,\n",
       " 319,\n",
       " 17466,\n",
       " 13995,\n",
       " 9569,\n",
       " 865,\n",
       " 10166,\n",
       " 9768,\n",
       " 698,\n",
       " 9618,\n",
       " 642,\n",
       " 380,\n",
       " 172,\n",
       " 11216,\n",
       " 1648,\n",
       " 9542,\n",
       " 11470,\n",
       " 608,\n",
       " 564,\n",
       " 11770,\n",
       " 646,\n",
       " 11852,\n",
       " 1893,\n",
       " 364,\n",
       " 7443,\n",
       " 1364,\n",
       " 1734,\n",
       " 600,\n",
       " 1572,\n",
       " 429,\n",
       " 10987,\n",
       " 4824,\n",
       " 8741,\n",
       " 2666,\n",
       " 10312,\n",
       " 8697,\n",
       " 73961,\n",
       " 115,\n",
       " 2157,\n",
       " 6623,\n",
       " 9772,\n",
       " 9406,\n",
       " 1878,\n",
       " 21452,\n",
       " 2671,\n",
       " 9798,\n",
       " 282069,\n",
       " 337719,\n",
       " 210577,\n",
       " 192577,\n",
       " 184315,\n",
       " 91586,\n",
       " 206487,\n",
       " 5255,\n",
       " 285812,\n",
       " 57165,\n",
       " 61791,\n",
       " 59440,\n",
       " 287590,\n",
       " 22794,\n",
       " 217993,\n",
       " 227159,\n",
       " 10781,\n",
       " 42968,\n",
       " 772,\n",
       " 4552,\n",
       " 588,\n",
       " 4257,\n",
       " 6795,\n",
       " 12665,\n",
       " 8961,\n",
       " 24,\n",
       " 13205,\n",
       " 38,\n",
       " 9353,\n",
       " 1402,\n",
       " 4256,\n",
       " 4348,\n",
       " 6477,\n",
       " 43947,\n",
       " 8329,\n",
       " 27205,\n",
       " 28874,\n",
       " 9316,\n",
       " 98,\n",
       " 6145,\n",
       " 11917,\n",
       " 52629,\n",
       " 19912,\n",
       " 2454,\n",
       " 22894,\n",
       " 11324,\n",
       " 34134,\n",
       " 20681,\n",
       " 11176,\n",
       " 33521,\n",
       " 2768,\n",
       " 1361,\n",
       " 12129,\n",
       " 3537,\n",
       " 29056,\n",
       " 20283,\n",
       " 40420,\n",
       " 28679,\n",
       " 29723,\n",
       " 42172,\n",
       " 39916,\n",
       " 988,\n",
       " 11834,\n",
       " 11680,\n",
       " 12223,\n",
       " 315838,\n",
       " 11337,\n",
       " 397852,\n",
       " 449443,\n",
       " 447200,\n",
       " 531380,\n",
       " 181808,\n",
       " 431819,\n",
       " 550201,\n",
       " 426865,\n",
       " 375588,\n",
       " 476292,\n",
       " 520788,\n",
       " 300668,\n",
       " 369972,\n",
       " 424694,\n",
       " 338970,\n",
       " 295693,\n",
       " 525554,\n",
       " 503929,\n",
       " 511679,\n",
       " 834702,\n",
       " 15035,\n",
       " 11368,\n",
       " 895,\n",
       " 29794,\n",
       " 10905,\n",
       " 119854,\n",
       " 17360,\n",
       " 9838,\n",
       " 11507,\n",
       " 11296,\n",
       " 10518,\n",
       " 9281,\n",
       " 157,\n",
       " 8130,\n",
       " 8868,\n",
       " 10849,\n",
       " 9846,\n",
       " 8833,\n",
       " 837,\n",
       " 4476,\n",
       " 12613,\n",
       " 11104,\n",
       " 9361,\n",
       " 11164,\n",
       " 15613,\n",
       " 27793,\n",
       " 10497,\n",
       " 9367,\n",
       " 11566,\n",
       " 2788,\n",
       " 20726,\n",
       " 10731,\n",
       " 13595,\n",
       " 17809,\n",
       " 2654,\n",
       " 241,\n",
       " 1909,\n",
       " 5511,\n",
       " 14135,\n",
       " 11497,\n",
       " 150,\n",
       " 9322,\n",
       " 1412,\n",
       " 691,\n",
       " 3525,\n",
       " 9086,\n",
       " 968,\n",
       " 2291,\n",
       " 96,\n",
       " 12150,\n",
       " 249,\n",
       " 10222,\n",
       " 660,\n",
       " 2323,\n",
       " 387,\n",
       " 10860,\n",
       " 11510,\n",
       " 8867,\n",
       " 19124,\n",
       " 9348,\n",
       " 11978,\n",
       " 161822,\n",
       " 11397,\n",
       " 65,\n",
       " 8835,\n",
       " 36586,\n",
       " 15601,\n",
       " 197,\n",
       " 4108,\n",
       " 9603,\n",
       " 2667,\n",
       " 745,\n",
       " 10830,\n",
       " 161,\n",
       " 10281,\n",
       " 9429,\n",
       " 184,\n",
       " 11551,\n",
       " 6950,\n",
       " 11967,\n",
       " 782,\n",
       " 8838,\n",
       " 611837,\n",
       " 200,\n",
       " 6068,\n",
       " 627,\n",
       " 10351,\n",
       " 9313,\n",
       " 9945,\n",
       " 6435,\n",
       " 9619,\n",
       " 123707,\n",
       " 11675,\n",
       " 816,\n",
       " 4995,\n",
       " 11283,\n",
       " 21705,\n",
       " 1975,\n",
       " 9906,\n",
       " 10947,\n",
       " 16140,\n",
       " 1271,\n",
       " 2662,\n",
       " 956,\n",
       " 565,\n",
       " 9291,\n",
       " 9693,\n",
       " 2502,\n",
       " 18823,\n",
       " 47533,\n",
       " 348,\n",
       " 23398,\n",
       " 12155,\n",
       " 1691,\n",
       " 10140,\n",
       " 22832,\n",
       " 14161,\n",
       " 46261,\n",
       " 15512,\n",
       " 25642,\n",
       " 16325,\n",
       " 10196,\n",
       " ...]"
      ]
     },
     "execution_count": 60,
     "metadata": {},
     "output_type": "execute_result"
    }
   ],
   "source": [
    "x['tmdb_id'].to_list()"
   ]
  },
  {
   "cell_type": "code",
   "execution_count": 61,
   "id": "automated-router",
   "metadata": {},
   "outputs": [],
   "source": [
    "mt = MultiThreading(20,x['tmdb_id'].to_list(),all_results)"
   ]
  },
  {
   "cell_type": "code",
   "execution_count": 62,
   "id": "married-stephen",
   "metadata": {},
   "outputs": [
    {
     "data": {
      "application/vnd.jupyter.widget-view+json": {
       "model_id": "5bce2134593e4dbabfa78e0c1b08ab65",
       "version_major": 2,
       "version_minor": 0
      },
      "text/plain": [
       "  0%|          | 0/984 [00:00<?, ?it/s]"
      ]
     },
     "metadata": {},
     "output_type": "display_data"
    },
    {
     "data": {
      "application/vnd.jupyter.widget-view+json": {
       "model_id": "c55d9eafa57e4593bd9df471186f7bc0",
       "version_major": 2,
       "version_minor": 0
      },
      "text/plain": [
       "  0%|          | 0/983 [00:00<?, ?it/s]"
      ]
     },
     "metadata": {},
     "output_type": "display_data"
    },
    {
     "data": {
      "application/vnd.jupyter.widget-view+json": {
       "model_id": "93b4a8a77dfe4224ac86c31da4f726c8",
       "version_major": 2,
       "version_minor": 0
      },
      "text/plain": [
       "  0%|          | 0/984 [00:00<?, ?it/s]"
      ]
     },
     "metadata": {},
     "output_type": "display_data"
    },
    {
     "data": {
      "application/vnd.jupyter.widget-view+json": {
       "model_id": "fe2a66b4b7384d558275a07fbf176794",
       "version_major": 2,
       "version_minor": 0
      },
      "text/plain": [
       "  0%|          | 0/983 [00:00<?, ?it/s]"
      ]
     },
     "metadata": {},
     "output_type": "display_data"
    },
    {
     "data": {
      "application/vnd.jupyter.widget-view+json": {
       "model_id": "d258e87608724595847b22c6ae65610c",
       "version_major": 2,
       "version_minor": 0
      },
      "text/plain": [
       "  0%|          | 0/983 [00:00<?, ?it/s]"
      ]
     },
     "metadata": {},
     "output_type": "display_data"
    },
    {
     "data": {
      "application/vnd.jupyter.widget-view+json": {
       "model_id": "0a2fa5f5dd9347b6af2c9ca74bdaa651",
       "version_major": 2,
       "version_minor": 0
      },
      "text/plain": [
       "  0%|          | 0/983 [00:00<?, ?it/s]"
      ]
     },
     "metadata": {},
     "output_type": "display_data"
    },
    {
     "data": {
      "application/vnd.jupyter.widget-view+json": {
       "model_id": "4627700ddb3e4694ae125d0aa67634c2",
       "version_major": 2,
       "version_minor": 0
      },
      "text/plain": [
       "  0%|          | 0/983 [00:00<?, ?it/s]"
      ]
     },
     "metadata": {},
     "output_type": "display_data"
    },
    {
     "data": {
      "application/vnd.jupyter.widget-view+json": {
       "model_id": "d7d92f0b58f644639b60840c91c1504d",
       "version_major": 2,
       "version_minor": 0
      },
      "text/plain": [
       "  0%|          | 0/984 [00:00<?, ?it/s]"
      ]
     },
     "metadata": {},
     "output_type": "display_data"
    },
    {
     "data": {
      "application/vnd.jupyter.widget-view+json": {
       "model_id": "a27cad1c3a8949b5b9660425c53f72fd",
       "version_major": 2,
       "version_minor": 0
      },
      "text/plain": [
       "  0%|          | 0/983 [00:00<?, ?it/s]"
      ]
     },
     "metadata": {},
     "output_type": "display_data"
    },
    {
     "data": {
      "application/vnd.jupyter.widget-view+json": {
       "model_id": "9cb6f4d5c51247ce96da70a141f9f07a",
       "version_major": 2,
       "version_minor": 0
      },
      "text/plain": [
       "  0%|          | 0/983 [00:00<?, ?it/s]"
      ]
     },
     "metadata": {},
     "output_type": "display_data"
    },
    {
     "data": {
      "application/vnd.jupyter.widget-view+json": {
       "model_id": "85f2c073c70f469385e8b24b4c648572",
       "version_major": 2,
       "version_minor": 0
      },
      "text/plain": [
       "  0%|          | 0/983 [00:00<?, ?it/s]"
      ]
     },
     "metadata": {},
     "output_type": "display_data"
    },
    {
     "data": {
      "application/vnd.jupyter.widget-view+json": {
       "model_id": "64530fde845d48a3a075862ac4d4171d",
       "version_major": 2,
       "version_minor": 0
      },
      "text/plain": [
       "  0%|          | 0/983 [00:00<?, ?it/s]"
      ]
     },
     "metadata": {},
     "output_type": "display_data"
    },
    {
     "data": {
      "application/vnd.jupyter.widget-view+json": {
       "model_id": "ee66c52095c14c31ae9a8b82c64588d3",
       "version_major": 2,
       "version_minor": 0
      },
      "text/plain": [
       "  0%|          | 0/983 [00:00<?, ?it/s]"
      ]
     },
     "metadata": {},
     "output_type": "display_data"
    },
    {
     "data": {
      "application/vnd.jupyter.widget-view+json": {
       "model_id": "1a8b32261e354f58a927c2a8f1df192b",
       "version_major": 2,
       "version_minor": 0
      },
      "text/plain": [
       "  0%|          | 0/983 [00:00<?, ?it/s]"
      ]
     },
     "metadata": {},
     "output_type": "display_data"
    },
    {
     "data": {
      "application/vnd.jupyter.widget-view+json": {
       "model_id": "e9f80666c0b04103b3a59d02102099a4",
       "version_major": 2,
       "version_minor": 0
      },
      "text/plain": [
       "  0%|          | 0/983 [00:00<?, ?it/s]"
      ]
     },
     "metadata": {},
     "output_type": "display_data"
    },
    {
     "data": {
      "application/vnd.jupyter.widget-view+json": {
       "model_id": "b5e52512e35946d5a61dfcf98b3a5479",
       "version_major": 2,
       "version_minor": 0
      },
      "text/plain": [
       "  0%|          | 0/983 [00:00<?, ?it/s]"
      ]
     },
     "metadata": {},
     "output_type": "display_data"
    },
    {
     "data": {
      "application/vnd.jupyter.widget-view+json": {
       "model_id": "2c2b568ca15b4085a0b5c398831912ef",
       "version_major": 2,
       "version_minor": 0
      },
      "text/plain": [
       "  0%|          | 0/983 [00:00<?, ?it/s]"
      ]
     },
     "metadata": {},
     "output_type": "display_data"
    },
    {
     "data": {
      "application/vnd.jupyter.widget-view+json": {
       "model_id": "674d03f943f945c6815e78aa7e7a0894",
       "version_major": 2,
       "version_minor": 0
      },
      "text/plain": [
       "  0%|          | 0/983 [00:00<?, ?it/s]"
      ]
     },
     "metadata": {},
     "output_type": "display_data"
    },
    {
     "data": {
      "application/vnd.jupyter.widget-view+json": {
       "model_id": "3128c73bb6c44155aa2c2a68b207e267",
       "version_major": 2,
       "version_minor": 0
      },
      "text/plain": [
       "  0%|          | 0/983 [00:00<?, ?it/s]"
      ]
     },
     "metadata": {},
     "output_type": "display_data"
    },
    {
     "data": {
      "application/vnd.jupyter.widget-view+json": {
       "model_id": "bc8df8b285b24e909d505b0dd09d2692",
       "version_major": 2,
       "version_minor": 0
      },
      "text/plain": [
       "  0%|          | 0/983 [00:00<?, ?it/s]"
      ]
     },
     "metadata": {},
     "output_type": "display_data"
    },
    {
     "name": "stderr",
     "output_type": "stream",
     "text": [
      "Exception in thread Thread-45:\n",
      "Traceback (most recent call last):\n",
      "  File \"/Users/sam.ho/opt/anaconda3/envs/sam_env/lib/python3.6/threading.py\", line 916, in _bootstrap_inner\n",
      "    self.run()\n",
      "  File \"/Users/sam.ho/opt/anaconda3/envs/sam_env/lib/python3.6/threading.py\", line 864, in run\n",
      "    self._target(*self._args, **self._kwargs)\n",
      "  File \"<ipython-input-58-3484b8e527ab>\", line 11, in get_film_details\n",
      "    return results\n",
      "NameError: name 'results' is not defined\n",
      "\n",
      "Exception in thread Thread-49:\n",
      "Traceback (most recent call last):\n",
      "  File \"/Users/sam.ho/opt/anaconda3/envs/sam_env/lib/python3.6/threading.py\", line 916, in _bootstrap_inner\n",
      "    self.run()\n",
      "  File \"/Users/sam.ho/opt/anaconda3/envs/sam_env/lib/python3.6/threading.py\", line 864, in run\n",
      "    self._target(*self._args, **self._kwargs)\n",
      "  File \"<ipython-input-58-3484b8e527ab>\", line 11, in get_film_details\n",
      "    return results\n",
      "NameError: name 'results' is not defined\n",
      "\n",
      "Exception in thread Thread-46:\n",
      "Traceback (most recent call last):\n",
      "  File \"/Users/sam.ho/opt/anaconda3/envs/sam_env/lib/python3.6/threading.py\", line 916, in _bootstrap_inner\n",
      "    self.run()\n",
      "  File \"/Users/sam.ho/opt/anaconda3/envs/sam_env/lib/python3.6/threading.py\", line 864, in run\n",
      "    self._target(*self._args, **self._kwargs)\n",
      "  File \"<ipython-input-58-3484b8e527ab>\", line 11, in get_film_details\n",
      "    return results\n",
      "NameError: name 'results' is not defined\n",
      "\n",
      "Exception in thread Thread-55:\n",
      "Traceback (most recent call last):\n",
      "  File \"/Users/sam.ho/opt/anaconda3/envs/sam_env/lib/python3.6/threading.py\", line 916, in _bootstrap_inner\n",
      "    self.run()\n",
      "  File \"/Users/sam.ho/opt/anaconda3/envs/sam_env/lib/python3.6/threading.py\", line 864, in run\n",
      "    self._target(*self._args, **self._kwargs)\n",
      "  File \"<ipython-input-58-3484b8e527ab>\", line 11, in get_film_details\n",
      "    return results\n",
      "NameError: name 'results' is not defined\n",
      "\n",
      "Exception in thread Thread-61:\n",
      "Traceback (most recent call last):\n",
      "  File \"/Users/sam.ho/opt/anaconda3/envs/sam_env/lib/python3.6/threading.py\", line 916, in _bootstrap_inner\n",
      "    self.run()\n",
      "  File \"/Users/sam.ho/opt/anaconda3/envs/sam_env/lib/python3.6/threading.py\", line 864, in run\n",
      "    self._target(*self._args, **self._kwargs)\n",
      "  File \"<ipython-input-58-3484b8e527ab>\", line 11, in get_film_details\n",
      "    return results\n",
      "NameError: name 'results' is not defined\n",
      "\n",
      "Exception in thread Thread-54:\n",
      "Traceback (most recent call last):\n",
      "  File \"/Users/sam.ho/opt/anaconda3/envs/sam_env/lib/python3.6/threading.py\", line 916, in _bootstrap_inner\n",
      "    self.run()\n",
      "  File \"/Users/sam.ho/opt/anaconda3/envs/sam_env/lib/python3.6/threading.py\", line 864, in run\n",
      "    self._target(*self._args, **self._kwargs)\n",
      "  File \"<ipython-input-58-3484b8e527ab>\", line 11, in get_film_details\n",
      "    return results\n",
      "NameError: name 'results' is not defined\n",
      "\n",
      "Exception in thread Thread-48:\n",
      "Traceback (most recent call last):\n",
      "  File \"/Users/sam.ho/opt/anaconda3/envs/sam_env/lib/python3.6/threading.py\", line 916, in _bootstrap_inner\n",
      "    self.run()\n",
      "  File \"/Users/sam.ho/opt/anaconda3/envs/sam_env/lib/python3.6/threading.py\", line 864, in run\n",
      "    self._target(*self._args, **self._kwargs)\n",
      "  File \"<ipython-input-58-3484b8e527ab>\", line 11, in get_film_details\n",
      "    return results\n",
      "NameError: name 'results' is not defined\n",
      "\n",
      "Exception in thread Thread-53:\n",
      "Traceback (most recent call last):\n",
      "  File \"/Users/sam.ho/opt/anaconda3/envs/sam_env/lib/python3.6/threading.py\", line 916, in _bootstrap_inner\n",
      "    self.run()\n",
      "  File \"/Users/sam.ho/opt/anaconda3/envs/sam_env/lib/python3.6/threading.py\", line 864, in run\n",
      "    self._target(*self._args, **self._kwargs)\n",
      "  File \"<ipython-input-58-3484b8e527ab>\", line 11, in get_film_details\n",
      "    return results\n",
      "NameError: name 'results' is not defined\n",
      "\n",
      "Exception in thread Thread-62:\n",
      "Traceback (most recent call last):\n",
      "  File \"/Users/sam.ho/opt/anaconda3/envs/sam_env/lib/python3.6/threading.py\", line 916, in _bootstrap_inner\n",
      "    self.run()\n",
      "  File \"/Users/sam.ho/opt/anaconda3/envs/sam_env/lib/python3.6/threading.py\", line 864, in run\n",
      "    self._target(*self._args, **self._kwargs)\n",
      "  File \"<ipython-input-58-3484b8e527ab>\", line 11, in get_film_details\n",
      "    return results\n",
      "NameError: name 'results' is not defined\n",
      "\n",
      "Exception in thread Thread-63:\n",
      "Traceback (most recent call last):\n",
      "  File \"/Users/sam.ho/opt/anaconda3/envs/sam_env/lib/python3.6/threading.py\", line 916, in _bootstrap_inner\n",
      "    self.run()\n",
      "  File \"/Users/sam.ho/opt/anaconda3/envs/sam_env/lib/python3.6/threading.py\", line 864, in run\n",
      "    self._target(*self._args, **self._kwargs)\n",
      "  File \"<ipython-input-58-3484b8e527ab>\", line 11, in get_film_details\n",
      "    return results\n",
      "NameError: name 'results' is not defined\n",
      "\n",
      "Exception in thread Thread-60:\n",
      "Traceback (most recent call last):\n",
      "  File \"/Users/sam.ho/opt/anaconda3/envs/sam_env/lib/python3.6/threading.py\", line 916, in _bootstrap_inner\n",
      "    self.run()\n",
      "  File \"/Users/sam.ho/opt/anaconda3/envs/sam_env/lib/python3.6/threading.py\", line 864, in run\n",
      "    self._target(*self._args, **self._kwargs)\n",
      "  File \"<ipython-input-58-3484b8e527ab>\", line 11, in get_film_details\n",
      "    return results\n",
      "NameError: name 'results' is not defined\n",
      "\n",
      "Exception in thread Thread-52:\n",
      "Traceback (most recent call last):\n",
      "  File \"/Users/sam.ho/opt/anaconda3/envs/sam_env/lib/python3.6/threading.py\", line 916, in _bootstrap_inner\n",
      "    self.run()\n",
      "  File \"/Users/sam.ho/opt/anaconda3/envs/sam_env/lib/python3.6/threading.py\", line 864, in run\n",
      "    self._target(*self._args, **self._kwargs)\n",
      "  File \"<ipython-input-58-3484b8e527ab>\", line 11, in get_film_details\n",
      "    return results\n",
      "NameError: name 'results' is not defined\n",
      "\n",
      "Exception in thread Thread-56:\n",
      "Traceback (most recent call last):\n",
      "  File \"/Users/sam.ho/opt/anaconda3/envs/sam_env/lib/python3.6/threading.py\", line 916, in _bootstrap_inner\n",
      "    self.run()\n",
      "  File \"/Users/sam.ho/opt/anaconda3/envs/sam_env/lib/python3.6/threading.py\", line 864, in run\n",
      "    self._target(*self._args, **self._kwargs)\n",
      "  File \"<ipython-input-58-3484b8e527ab>\", line 11, in get_film_details\n",
      "    return results\n",
      "NameError: name 'results' is not defined\n",
      "\n",
      "Exception in thread Thread-58:\n",
      "Traceback (most recent call last):\n",
      "  File \"/Users/sam.ho/opt/anaconda3/envs/sam_env/lib/python3.6/threading.py\", line 916, in _bootstrap_inner\n",
      "    self.run()\n",
      "  File \"/Users/sam.ho/opt/anaconda3/envs/sam_env/lib/python3.6/threading.py\", line 864, in run\n",
      "    self._target(*self._args, **self._kwargs)\n",
      "  File \"<ipython-input-58-3484b8e527ab>\", line 11, in get_film_details\n",
      "    return results\n",
      "NameError: name 'results' is not defined\n",
      "\n",
      "Exception in thread Thread-50:\n",
      "Traceback (most recent call last):\n",
      "  File \"/Users/sam.ho/opt/anaconda3/envs/sam_env/lib/python3.6/threading.py\", line 916, in _bootstrap_inner\n",
      "    self.run()\n",
      "  File \"/Users/sam.ho/opt/anaconda3/envs/sam_env/lib/python3.6/threading.py\", line 864, in run\n",
      "    self._target(*self._args, **self._kwargs)\n",
      "  File \"<ipython-input-58-3484b8e527ab>\", line 11, in get_film_details\n",
      "    return results\n",
      "NameError: name 'results' is not defined\n",
      "\n",
      "Exception in thread Thread-59:\n",
      "Traceback (most recent call last):\n",
      "  File \"/Users/sam.ho/opt/anaconda3/envs/sam_env/lib/python3.6/threading.py\", line 916, in _bootstrap_inner\n",
      "    self.run()\n",
      "  File \"/Users/sam.ho/opt/anaconda3/envs/sam_env/lib/python3.6/threading.py\", line 864, in run\n",
      "    self._target(*self._args, **self._kwargs)\n",
      "  File \"<ipython-input-58-3484b8e527ab>\", line 11, in get_film_details\n",
      "    return results\n",
      "NameError: name 'results' is not defined\n",
      "\n",
      "Exception in thread Thread-51:\n",
      "Traceback (most recent call last):\n",
      "  File \"/Users/sam.ho/opt/anaconda3/envs/sam_env/lib/python3.6/threading.py\", line 916, in _bootstrap_inner\n",
      "    self.run()\n",
      "  File \"/Users/sam.ho/opt/anaconda3/envs/sam_env/lib/python3.6/threading.py\", line 864, in run\n",
      "    self._target(*self._args, **self._kwargs)\n",
      "  File \"<ipython-input-58-3484b8e527ab>\", line 11, in get_film_details\n",
      "    return results\n",
      "NameError: name 'results' is not defined\n",
      "\n",
      "Exception in thread Thread-57:\n",
      "Traceback (most recent call last):\n",
      "  File \"/Users/sam.ho/opt/anaconda3/envs/sam_env/lib/python3.6/threading.py\", line 916, in _bootstrap_inner\n",
      "    self.run()\n",
      "  File \"/Users/sam.ho/opt/anaconda3/envs/sam_env/lib/python3.6/threading.py\", line 864, in run\n",
      "    self._target(*self._args, **self._kwargs)\n",
      "  File \"<ipython-input-58-3484b8e527ab>\", line 11, in get_film_details\n",
      "    return results\n",
      "NameError: name 'results' is not defined\n",
      "\n"
     ]
    },
    {
     "name": "stderr",
     "output_type": "stream",
     "text": [
      "Exception in thread Thread-47:\n",
      "Traceback (most recent call last):\n",
      "  File \"/Users/sam.ho/opt/anaconda3/envs/sam_env/lib/python3.6/threading.py\", line 916, in _bootstrap_inner\n",
      "    self.run()\n",
      "  File \"/Users/sam.ho/opt/anaconda3/envs/sam_env/lib/python3.6/threading.py\", line 864, in run\n",
      "    self._target(*self._args, **self._kwargs)\n",
      "  File \"<ipython-input-58-3484b8e527ab>\", line 11, in get_film_details\n",
      "    return results\n",
      "NameError: name 'results' is not defined\n",
      "\n",
      "Exception in thread Thread-64:\n",
      "Traceback (most recent call last):\n",
      "  File \"/Users/sam.ho/opt/anaconda3/envs/sam_env/lib/python3.6/threading.py\", line 916, in _bootstrap_inner\n",
      "    self.run()\n",
      "  File \"/Users/sam.ho/opt/anaconda3/envs/sam_env/lib/python3.6/threading.py\", line 864, in run\n",
      "    self._target(*self._args, **self._kwargs)\n",
      "  File \"<ipython-input-58-3484b8e527ab>\", line 11, in get_film_details\n",
      "    return results\n",
      "NameError: name 'results' is not defined\n",
      "\n"
     ]
    }
   ],
   "source": [
    "mt.Run(get_film_details)"
   ]
  },
  {
   "cell_type": "code",
   "execution_count": 66,
   "id": "subtle-senate",
   "metadata": {},
   "outputs": [],
   "source": [
    "y = pd.DataFrame(all_results)"
   ]
  },
  {
   "cell_type": "code",
   "execution_count": 68,
   "id": "embedded-vampire",
   "metadata": {},
   "outputs": [],
   "source": [
    "df_use = pd.merge(x,y,how='left')"
   ]
  },
  {
   "cell_type": "code",
   "execution_count": 73,
   "id": "specific-metallic",
   "metadata": {},
   "outputs": [],
   "source": [
    "df_use.to_json('/Users/sam.ho/Documents/sam_personal/streamlit_apps/imdb_network_analysis/data/main/tmdb_data_main.json')"
   ]
  },
  {
   "cell_type": "code",
   "execution_count": null,
   "id": "every-albert",
   "metadata": {},
   "outputs": [],
   "source": []
  }
 ],
 "metadata": {
  "kernelspec": {
   "display_name": "Python 3",
   "language": "python",
   "name": "python3"
  },
  "language_info": {
   "codemirror_mode": {
    "name": "ipython",
    "version": 3
   },
   "file_extension": ".py",
   "mimetype": "text/x-python",
   "name": "python",
   "nbconvert_exporter": "python",
   "pygments_lexer": "ipython3",
   "version": "3.6.10"
  }
 },
 "nbformat": 4,
 "nbformat_minor": 5
}

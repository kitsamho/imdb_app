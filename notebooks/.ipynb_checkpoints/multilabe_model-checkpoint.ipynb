{
 "cells": [
  {
   "cell_type": "code",
   "execution_count": 1,
   "id": "sustainable-yorkshire",
   "metadata": {},
   "outputs": [],
   "source": [
    "import pandas as pd\n",
    "import transformers\n",
    "import numpy as np\n",
    "import os\n",
    "import json\n",
    "import ast\n",
    "# from samutil import SpacyTransformer\n",
    "import spacy\n",
    "model = spacy.load('en_core_web_sm')\n",
    "from sklearn.feature_extraction.text import ENGLISH_STOP_WORDS\n",
    "from sklearn.feature_extraction.text import CountVectorizer\n",
    "\n",
    "import torch\n",
    "from tqdm.notebook import tqdm\n",
    "\n",
    "from transformers import BertTokenizer\n",
    "from torch.utils.data import TensorDataset\n",
    "\n",
    "from transformers import BertForSequenceClassification\n",
    "\n",
    "from sklearn.utils.extmath import softmax\n",
    "import numpy as np\n",
    "\n"
   ]
  },
  {
   "cell_type": "code",
   "execution_count": 32,
   "id": "searching-technology",
   "metadata": {},
   "outputs": [],
   "source": [
    "df = pd.read_json('../data/main/tmdb_data_main.json')\n",
    "df = df[['tmdb_id','movie','overview','genres','genres_new','popularity','release_year','vote_average','budget','revenue','poster_path']]\n",
    "df = df.dropna(subset=['genres'])\n",
    "\n",
    "\n",
    "\n",
    "genre_include = df.explode('genres').genres.value_counts().keys()[0:12]\n",
    "\n",
    "def genres_check(film_genres):\n",
    "    \n",
    "    for genre in film_genres:\n",
    "        if genre not in genre_include:\n",
    "            return False\n",
    "    return True\n",
    "\n",
    "df['genres_valid'] = df['genres'].apply(genres_check)\n",
    "\n",
    "df = df[df.genres_valid ==True]"
   ]
  },
  {
   "cell_type": "code",
   "execution_count": 33,
   "id": "aquatic-crazy",
   "metadata": {},
   "outputs": [
    {
     "data": {
      "text/plain": [
       "(15001, 12)"
      ]
     },
     "execution_count": 33,
     "metadata": {},
     "output_type": "execute_result"
    }
   ],
   "source": [
    "df.shape"
   ]
  },
  {
   "cell_type": "code",
   "execution_count": null,
   "id": "checked-clinic",
   "metadata": {},
   "outputs": [],
   "source": [
    "genre_include."
   ]
  }
 ],
 "metadata": {
  "kernelspec": {
   "display_name": "Python 3",
   "language": "python",
   "name": "python3"
  },
  "language_info": {
   "codemirror_mode": {
    "name": "ipython",
    "version": 3
   },
   "file_extension": ".py",
   "mimetype": "text/x-python",
   "name": "python",
   "nbconvert_exporter": "python",
   "pygments_lexer": "ipython3",
   "version": "3.6.10"
  }
 },
 "nbformat": 4,
 "nbformat_minor": 5
}
